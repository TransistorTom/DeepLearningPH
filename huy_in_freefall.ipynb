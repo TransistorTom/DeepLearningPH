{
 "cells": [
  {
   "cell_type": "code",
   "execution_count": null,
   "metadata": {},
   "outputs": [
    {
     "name": "stdout",
     "output_type": "stream",
     "text": [
      "Collecting torch-geometric\n",
      "  Downloading torch_geometric-2.6.1-py3-none-any.whl.metadata (63 kB)\n",
      "Requirement already satisfied: aiohttp in /Users/ruxi/opt/anaconda3/lib/python3.9/site-packages (from torch-geometric) (3.11.13)\n",
      "Requirement already satisfied: fsspec in /Users/ruxi/opt/anaconda3/lib/python3.9/site-packages (from torch-geometric) (2025.2.0)\n",
      "Requirement already satisfied: jinja2 in /Users/ruxi/opt/anaconda3/lib/python3.9/site-packages (from torch-geometric) (2.11.3)\n",
      "Requirement already satisfied: numpy in /Users/ruxi/opt/anaconda3/lib/python3.9/site-packages (from torch-geometric) (1.26.4)\n",
      "Requirement already satisfied: psutil>=5.8.0 in /Users/ruxi/opt/anaconda3/lib/python3.9/site-packages (from torch-geometric) (5.8.0)\n",
      "Requirement already satisfied: pyparsing in /Users/ruxi/opt/anaconda3/lib/python3.9/site-packages (from torch-geometric) (3.2.1)\n",
      "Requirement already satisfied: requests in /Users/ruxi/opt/anaconda3/lib/python3.9/site-packages (from torch-geometric) (2.26.0)\n",
      "Requirement already satisfied: tqdm in /Users/ruxi/opt/anaconda3/lib/python3.9/site-packages (from torch-geometric) (4.62.3)\n",
      "Requirement already satisfied: aiohappyeyeballs>=2.3.0 in /Users/ruxi/opt/anaconda3/lib/python3.9/site-packages (from aiohttp->torch-geometric) (2.5.0)\n",
      "Requirement already satisfied: aiosignal>=1.1.2 in /Users/ruxi/opt/anaconda3/lib/python3.9/site-packages (from aiohttp->torch-geometric) (1.3.2)\n",
      "Requirement already satisfied: async-timeout<6.0,>=4.0 in /Users/ruxi/opt/anaconda3/lib/python3.9/site-packages (from aiohttp->torch-geometric) (5.0.1)\n",
      "Requirement already satisfied: attrs>=17.3.0 in /Users/ruxi/opt/anaconda3/lib/python3.9/site-packages (from aiohttp->torch-geometric) (21.2.0)\n",
      "Requirement already satisfied: frozenlist>=1.1.1 in /Users/ruxi/opt/anaconda3/lib/python3.9/site-packages (from aiohttp->torch-geometric) (1.5.0)\n",
      "Requirement already satisfied: multidict<7.0,>=4.5 in /Users/ruxi/opt/anaconda3/lib/python3.9/site-packages (from aiohttp->torch-geometric) (6.1.0)\n",
      "Requirement already satisfied: propcache>=0.2.0 in /Users/ruxi/opt/anaconda3/lib/python3.9/site-packages (from aiohttp->torch-geometric) (0.3.0)\n",
      "Requirement already satisfied: yarl<2.0,>=1.17.0 in /Users/ruxi/opt/anaconda3/lib/python3.9/site-packages (from aiohttp->torch-geometric) (1.18.3)\n",
      "Requirement already satisfied: MarkupSafe>=0.23 in /Users/ruxi/opt/anaconda3/lib/python3.9/site-packages (from jinja2->torch-geometric) (1.1.1)\n",
      "Requirement already satisfied: urllib3<1.27,>=1.21.1 in /Users/ruxi/opt/anaconda3/lib/python3.9/site-packages (from requests->torch-geometric) (1.26.7)\n",
      "Requirement already satisfied: certifi>=2017.4.17 in /Users/ruxi/opt/anaconda3/lib/python3.9/site-packages (from requests->torch-geometric) (2025.1.31)\n",
      "Requirement already satisfied: charset-normalizer~=2.0.0 in /Users/ruxi/opt/anaconda3/lib/python3.9/site-packages (from requests->torch-geometric) (2.0.4)\n",
      "Requirement already satisfied: idna<4,>=2.5 in /Users/ruxi/opt/anaconda3/lib/python3.9/site-packages (from requests->torch-geometric) (3.2)\n",
      "Requirement already satisfied: typing-extensions>=4.1.0 in /Users/ruxi/opt/anaconda3/lib/python3.9/site-packages (from multidict<7.0,>=4.5->aiohttp->torch-geometric) (4.12.2)\n",
      "Downloading torch_geometric-2.6.1-py3-none-any.whl (1.1 MB)\n",
      "\u001b[2K   \u001b[90m━━━━━━━━━━━━━━━━━━━━━━━━━━━━━━━━━━━━━━━━\u001b[0m \u001b[32m1.1/1.1 MB\u001b[0m \u001b[31m2.2 MB/s\u001b[0m eta \u001b[36m0:00:00\u001b[0ma \u001b[36m0:00:01\u001b[0m\n",
      "\u001b[?25hInstalling collected packages: torch-geometric\n",
      "Successfully installed torch-geometric-2.6.1\n",
      "Collecting gplearn\n",
      "  Downloading gplearn-0.4.2-py3-none-any.whl.metadata (4.3 kB)\n",
      "Requirement already satisfied: scikit-learn>=1.0.2 in /Users/ruxi/opt/anaconda3/lib/python3.9/site-packages (from gplearn) (1.6.1)\n",
      "Requirement already satisfied: joblib>=1.0.0 in /Users/ruxi/opt/anaconda3/lib/python3.9/site-packages (from gplearn) (1.4.2)\n",
      "Requirement already satisfied: numpy>=1.19.5 in /Users/ruxi/opt/anaconda3/lib/python3.9/site-packages (from scikit-learn>=1.0.2->gplearn) (1.26.4)\n",
      "Requirement already satisfied: scipy>=1.6.0 in /Users/ruxi/opt/anaconda3/lib/python3.9/site-packages (from scikit-learn>=1.0.2->gplearn) (1.13.1)\n",
      "Requirement already satisfied: threadpoolctl>=3.1.0 in /Users/ruxi/opt/anaconda3/lib/python3.9/site-packages (from scikit-learn>=1.0.2->gplearn) (3.5.0)\n",
      "Downloading gplearn-0.4.2-py3-none-any.whl (25 kB)\n",
      "Installing collected packages: gplearn\n",
      "Successfully installed gplearn-0.4.2\n"
     ]
    }
   ],
   "source": [
    "# !pip install torch-geometric\n",
    "# !pip install gplearn"
   ]
  },
  {
   "cell_type": "code",
   "execution_count": null,
   "metadata": {},
   "outputs": [],
   "source": [
    "import matplotlib.pyplot as plt\n",
    "import numpy as np\n",
    "import torch\n",
    "import torch.nn as nn\n",
    "import torch.optim as optim\n",
    "from torch_geometric.data import Data, DataLoader\n",
    "from torch_geometric.nn import MessagePassing"
   ]
  },
  {
   "cell_type": "code",
   "execution_count": null,
   "metadata": {},
   "outputs": [],
   "source": [
    "time_data = np.arange(0, 10, 0.1)\n",
    "g = 9.81\n",
    "\n",
    "position_data = 1000 - 0.5 * g * time_data **2\n",
    "\n",
    "# print(position_data)\n",
    "\n",
    "# plt.plot(time_data, position_data)\n",
    "# plt.show"
   ]
  },
  {
   "cell_type": "code",
   "execution_count": null,
   "metadata": {},
   "outputs": [],
   "source": [
    "# Define the GNN model\n",
    "class FreeFallGNN(MessagePassing):\n",
    "    def __init__(self, in_channels, hidden_channels, out_channels):\n",
    "        super(FreeFallGNN, self).__init__(aggr='mean')\n",
    "        self.fc1 = nn.Linear(in_channels, hidden_channels)\n",
    "        self.fc2 = nn.Linear(hidden_channels, hidden_channels)  # Added hidden layer\n",
    "        self.fc3 = nn.Linear(hidden_channels, out_channels)  # Additional layer\n",
    "        self.relu = nn.ReLU()\n",
    "\n",
    "    def forward(self, x, edge_index):\n",
    "        # Passing the input through the neural network layers\n",
    "        velocity_update = self.fc1(x)\n",
    "        velocity_update = self.relu(velocity_update)\n",
    "        velocity_update = self.fc2(velocity_update)\n",
    "        velocity_update = self.relu(velocity_update)\n",
    "        velocity_update = self.fc3(velocity_update)  # Predict velocity update as message\n",
    "        return velocity_update\n",
    "\n",
    "# Function to generate simulation data over time (with velocity updates)\n",
    "def generate_fall_data_from_position(position_data, time_data, mass=1.0, acceleration=-9.81, dt=0.1):\n",
    "    data_list = []\n",
    "    velocity_data = np.gradient(position_data, time_data)  # Use np.gradient for velocity estimation\n",
    "    for i in range(len(position_data) - 1):  # We stop before the last index\n",
    "        # Calculate velocity update (delta v) as velocity[i+1] - velocity[i]\n",
    "        velocity_update = velocity_data[i+1] - velocity_data[i]\n",
    "\n",
    "        x = torch.tensor([[position_data[i], velocity_data[i], mass]], dtype=torch.float)  # Node features (position, velocity, mass)\n",
    "        y = torch.tensor([[velocity_update]], dtype=torch.float)  # Ground truth velocity update (delta v)\n",
    "        edge_index = torch.tensor([[0], [0]], dtype=torch.long)  # Self-loop (no interaction)\n",
    "        data_list.append(Data(x=x, edge_index=edge_index, y=y))  # Only keep velocity update in the label (y)\n",
    "\n",
    "    return data_list\n"
   ]
  },
  {
   "cell_type": "code",
   "execution_count": null,
   "metadata": {},
   "outputs": [],
   "source": [
    "# Generate the simulation data from position data\n",
    "data_list = generate_fall_data_from_position(position_data, time_data)\n",
    "dataloader = DataLoader(data_list, batch_size=1, shuffle=False)  # Keep sequential order\n",
    "\n",
    "# Initialize model, loss function, and optimizer\n",
    "model = FreeFallGNN(in_channels=3, hidden_channels=8, out_channels=1)\n",
    "criterion = nn.MSELoss()\n",
    "optimizer = optim.Adam(model.parameters(), lr=0.1)\n",
    "\n",
    "# Training loop\n",
    "for epoch in range(10):\n",
    "    total_loss = 0\n",
    "    for data in dataloader:\n",
    "        optimizer.zero_grad()\n",
    "        pred_velocity_update = model(data.x, data.edge_index)  # Predict velocity update\n",
    "        loss = criterion(pred_velocity_update, data.y)  # Compare with ground truth velocity update\n",
    "        loss.backward()\n",
    "        optimizer.step()\n",
    "        total_loss += loss.item()\n",
    "    print(f\"Epoch {epoch+1}, Loss: {total_loss / len(dataloader):.6f}\")\n",
    "\n",
    "# Output results\n",
    "print(\"\\nSimulation Results:\")\n",
    "for idx, data in enumerate(dataloader):\n",
    "    with torch.no_grad():\n",
    "        pred_velocity_update = model(data.x, data.edge_index)\n",
    "\n",
    "        # Calculate the time step: Δt = time[i+1] - time[i]\n",
    "        delta_t = time_data[idx+1] - time_data[idx]  # Time difference between current and next step\n",
    "\n",
    "        # Calculate the predicted velocity: v[i+1] = v[i] + Δv\n",
    "        predicted_velocity = data.x[0][1].item() + pred_velocity_update.item()\n",
    "\n",
    "        # Calculate the predicted force: F = Δv / Δt\n",
    "        force = pred_velocity_update.item() / delta_t  # F = predicted Δv / Δt\n",
    "\n",
    "        print(f\"Ground Truth Velocity Update: {data.y.item()}, Predicted Velocity Update: {pred_velocity_update.item()}, Predicted Force: {force:.6f}\")"
   ]
  }
 ],
 "metadata": {
  "kernelspec": {
   "display_name": "base",
   "language": "python",
   "name": "python3"
  },
  "language_info": {
   "codemirror_mode": {
    "name": "ipython",
    "version": 3
   },
   "file_extension": ".py",
   "mimetype": "text/x-python",
   "name": "python",
   "nbconvert_exporter": "python",
   "pygments_lexer": "ipython3",
   "version": "3.9.7"
  }
 },
 "nbformat": 4,
 "nbformat_minor": 2
}
