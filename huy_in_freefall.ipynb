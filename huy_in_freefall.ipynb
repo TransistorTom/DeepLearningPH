{
 "cells": [
  {
   "cell_type": "code",
   "execution_count": 2,
   "metadata": {},
   "outputs": [],
   "source": [
    "# !pip install torch-geometric\n",
    "# !pip install gplearn"
   ]
  },
  {
   "cell_type": "code",
   "execution_count": 3,
   "metadata": {},
   "outputs": [],
   "source": [
    "import matplotlib.pyplot as plt\n",
    "import numpy as np\n",
    "import torch\n",
    "import torch.nn as nn\n",
    "import torch.optim as optim\n",
    "from torch_geometric.data import Data, DataLoader\n",
    "from torch_geometric.nn import MessagePassing"
   ]
  },
  {
   "cell_type": "code",
   "execution_count": 37,
   "metadata": {},
   "outputs": [],
   "source": [
    "time_data = np.arange(0.1, 10, 0.1)\n",
    "g = 9.81\n",
    "\n",
    "position_data = 1000 - 0.5 * g * time_data **2\n",
    "\n",
    "# print(position_data)\n",
    "\n",
    "# plt.plot(time_data, position_data)\n",
    "# plt.show"
   ]
  },
  {
   "cell_type": "code",
   "execution_count": 38,
   "metadata": {},
   "outputs": [
    {
     "data": {
      "text/plain": [
       "-1.4715000000001055"
      ]
     },
     "execution_count": 38,
     "metadata": {},
     "output_type": "execute_result"
    }
   ],
   "source": [
    "(position_data[1] - position_data[0]) / (time_data[1] - time_data[0])"
   ]
  },
  {
   "cell_type": "code",
   "execution_count": 39,
   "metadata": {},
   "outputs": [
    {
     "data": {
      "text/plain": [
       "0.1"
      ]
     },
     "execution_count": 39,
     "metadata": {},
     "output_type": "execute_result"
    }
   ],
   "source": [
    "time_data[0]"
   ]
  },
  {
   "cell_type": "code",
   "execution_count": 40,
   "metadata": {},
   "outputs": [],
   "source": [
    "# Define the GNN model\n",
    "class FreeFallGNN(MessagePassing):\n",
    "    def __init__(self, in_channels, hidden_channels, out_channels):\n",
    "        super(FreeFallGNN, self).__init__(aggr='mean')\n",
    "        self.fc1 = nn.Linear(in_channels, hidden_channels)\n",
    "        self.fc2 = nn.Linear(hidden_channels, hidden_channels)  # Added hidden layer\n",
    "        self.fc3 = nn.Linear(hidden_channels, out_channels)  # Additional layer\n",
    "        self.relu = nn.ReLU()\n",
    "\n",
    "    def forward(self, x, edge_index):\n",
    "        # Passing the input through the neural network layers\n",
    "        velocity_update = self.fc1(x)\n",
    "        velocity_update = self.relu(velocity_update)\n",
    "        velocity_update = self.fc2(velocity_update)\n",
    "        velocity_update = self.relu(velocity_update)\n",
    "        velocity_update = self.fc3(velocity_update)  # Predict velocity update as message\n",
    "        return velocity_update\n",
    "\n",
    "# Function to generate simulation data over time (with velocity updates)\n",
    "def generate_fall_data_from_position(position_data, time_data, mass=1.0, acceleration=-9.81, dt=0.1):\n",
    "    data_list = []\n",
    "\n",
    "    velocity_data = np.zeros_like(position_data)\n",
    "    velocity_data[0] = (position_data[1] - position_data[0]) / (time_data[1] - time_data[0])  # Forward difference for first datapoint\n",
    "\n",
    "    # Compute velocity using central differences\n",
    "    velocity_data[1:] = np.diff(position_data) / np.diff(time_data)  # v = dx/dt\n",
    "    # velocity_data = np.insert(velocity_data, 0, velocity_data[0]) # Repeat first velocity value to not average out with 0    \n",
    "\n",
    "    # Compute velocity updates explicitly\n",
    "    velocity_update = np.diff(velocity_data)  # Compute delta v as v[i+1] - v[i]\n",
    "\n",
    "\n",
    "    for i in range(len(velocity_update)):  # We stop before the last index\n",
    "        # Calculate velocity update (delta v) as velocity[i+1] - velocity[i]\n",
    "        # velocity_update = velocity_data[i+1] - velocity_data[i]\n",
    "\n",
    "        x = torch.tensor([[position_data[i], velocity_data[i], mass]], dtype=torch.float)  # Node features (position, velocity, mass)\n",
    "        y = torch.tensor([[velocity_update[i]]], dtype=torch.float)  # Ground truth velocity update (delta v)\n",
    "        edge_index = torch.tensor([[0], [0]], dtype=torch.long)  # Self-loop (no interaction)\n",
    "        data_list.append(Data(x=x, edge_index=edge_index, y=y))  # Only keep velocity update in the label (y)\n",
    "\n",
    "    return data_list\n"
   ]
  },
  {
   "cell_type": "code",
   "execution_count": 41,
   "metadata": {},
   "outputs": [
    {
     "name": "stderr",
     "output_type": "stream",
     "text": [
      "/Users/ruxi/opt/anaconda3/lib/python3.9/site-packages/torch_geometric/deprecation.py:26: UserWarning: 'data.DataLoader' is deprecated, use 'loader.DataLoader' instead\n",
      "  warnings.warn(out)\n"
     ]
    },
    {
     "name": "stdout",
     "output_type": "stream",
     "text": [
      "Epoch 1, Loss: 209.954627\n",
      "Epoch 2, Loss: 0.015536\n",
      "Epoch 3, Loss: 0.016215\n",
      "Epoch 4, Loss: 0.016742\n",
      "Epoch 5, Loss: 0.017009\n",
      "Epoch 6, Loss: 0.017132\n",
      "Epoch 7, Loss: 0.017183\n",
      "Epoch 8, Loss: 0.017189\n",
      "Epoch 9, Loss: 0.017164\n",
      "Epoch 10, Loss: 0.017113\n",
      "\n",
      "Simulation Results:\n",
      "Ground Truth Velocity Update: 0.0, Predicted Velocity Update: -0.9832295775413513, Predicted Force: -9.832296\n",
      "Ground Truth Velocity Update: -0.9810000061988831, Predicted Velocity Update: -0.9832295775413513, Predicted Force: -9.832296\n",
      "Ground Truth Velocity Update: -0.9810000061988831, Predicted Velocity Update: -0.9832295775413513, Predicted Force: -9.832296\n",
      "Ground Truth Velocity Update: -0.9810000061988831, Predicted Velocity Update: -0.9832295775413513, Predicted Force: -9.832296\n",
      "Ground Truth Velocity Update: -0.9810000061988831, Predicted Velocity Update: -0.9832295775413513, Predicted Force: -9.832296\n",
      "Ground Truth Velocity Update: -0.9810000061988831, Predicted Velocity Update: -0.9832295775413513, Predicted Force: -9.832296\n",
      "Ground Truth Velocity Update: -0.9810000061988831, Predicted Velocity Update: -0.9832295775413513, Predicted Force: -9.832296\n",
      "Ground Truth Velocity Update: -0.9810000061988831, Predicted Velocity Update: -0.9832295775413513, Predicted Force: -9.832296\n",
      "Ground Truth Velocity Update: -0.9810000061988831, Predicted Velocity Update: -0.9832295775413513, Predicted Force: -9.832296\n",
      "Ground Truth Velocity Update: -0.9810000061988831, Predicted Velocity Update: -0.9832295775413513, Predicted Force: -9.832296\n",
      "Ground Truth Velocity Update: -0.9810000061988831, Predicted Velocity Update: -0.9832295775413513, Predicted Force: -9.832296\n",
      "Ground Truth Velocity Update: -0.9810000061988831, Predicted Velocity Update: -0.9832295775413513, Predicted Force: -9.832296\n",
      "Ground Truth Velocity Update: -0.9810000061988831, Predicted Velocity Update: -0.9832295775413513, Predicted Force: -9.832296\n",
      "Ground Truth Velocity Update: -0.9810000061988831, Predicted Velocity Update: -0.9832295775413513, Predicted Force: -9.832296\n",
      "Ground Truth Velocity Update: -0.9810000061988831, Predicted Velocity Update: -0.9832295775413513, Predicted Force: -9.832296\n",
      "Ground Truth Velocity Update: -0.9810000061988831, Predicted Velocity Update: -0.9832295775413513, Predicted Force: -9.832296\n",
      "Ground Truth Velocity Update: -0.9810000061988831, Predicted Velocity Update: -0.9832295775413513, Predicted Force: -9.832296\n",
      "Ground Truth Velocity Update: -0.9810000061988831, Predicted Velocity Update: -0.9832295775413513, Predicted Force: -9.832296\n",
      "Ground Truth Velocity Update: -0.9810000061988831, Predicted Velocity Update: -0.9832295775413513, Predicted Force: -9.832296\n",
      "Ground Truth Velocity Update: -0.9810000061988831, Predicted Velocity Update: -0.9832295775413513, Predicted Force: -9.832296\n",
      "Ground Truth Velocity Update: -0.9810000061988831, Predicted Velocity Update: -0.9832295775413513, Predicted Force: -9.832296\n",
      "Ground Truth Velocity Update: -0.9810000061988831, Predicted Velocity Update: -0.9832295775413513, Predicted Force: -9.832296\n",
      "Ground Truth Velocity Update: -0.9810000061988831, Predicted Velocity Update: -0.9832295775413513, Predicted Force: -9.832296\n",
      "Ground Truth Velocity Update: -0.9810000061988831, Predicted Velocity Update: -0.9832295775413513, Predicted Force: -9.832296\n",
      "Ground Truth Velocity Update: -0.9810000061988831, Predicted Velocity Update: -0.9832295775413513, Predicted Force: -9.832296\n",
      "Ground Truth Velocity Update: -0.9810000061988831, Predicted Velocity Update: -0.9832295775413513, Predicted Force: -9.832296\n",
      "Ground Truth Velocity Update: -0.9810000061988831, Predicted Velocity Update: -0.9832295775413513, Predicted Force: -9.832296\n",
      "Ground Truth Velocity Update: -0.9810000061988831, Predicted Velocity Update: -0.9832295775413513, Predicted Force: -9.832296\n",
      "Ground Truth Velocity Update: -0.9810000061988831, Predicted Velocity Update: -0.9832295775413513, Predicted Force: -9.832296\n",
      "Ground Truth Velocity Update: -0.9810000061988831, Predicted Velocity Update: -0.9832295775413513, Predicted Force: -9.832296\n",
      "Ground Truth Velocity Update: -0.9810000061988831, Predicted Velocity Update: -0.9832295775413513, Predicted Force: -9.832296\n",
      "Ground Truth Velocity Update: -0.9810000061988831, Predicted Velocity Update: -0.9832295775413513, Predicted Force: -9.832296\n",
      "Ground Truth Velocity Update: -0.9810000061988831, Predicted Velocity Update: -0.9832295775413513, Predicted Force: -9.832296\n",
      "Ground Truth Velocity Update: -0.9810000061988831, Predicted Velocity Update: -0.9832295775413513, Predicted Force: -9.832296\n",
      "Ground Truth Velocity Update: -0.9810000061988831, Predicted Velocity Update: -0.9832295775413513, Predicted Force: -9.832296\n",
      "Ground Truth Velocity Update: -0.9810000061988831, Predicted Velocity Update: -0.9832295775413513, Predicted Force: -9.832296\n",
      "Ground Truth Velocity Update: -0.9810000061988831, Predicted Velocity Update: -0.9832295775413513, Predicted Force: -9.832296\n",
      "Ground Truth Velocity Update: -0.9810000061988831, Predicted Velocity Update: -0.9832295775413513, Predicted Force: -9.832296\n",
      "Ground Truth Velocity Update: -0.9810000061988831, Predicted Velocity Update: -0.9832295775413513, Predicted Force: -9.832296\n",
      "Ground Truth Velocity Update: -0.9810000061988831, Predicted Velocity Update: -0.9832295775413513, Predicted Force: -9.832296\n",
      "Ground Truth Velocity Update: -0.9810000061988831, Predicted Velocity Update: -0.9832295775413513, Predicted Force: -9.832296\n",
      "Ground Truth Velocity Update: -0.9810000061988831, Predicted Velocity Update: -0.9832295775413513, Predicted Force: -9.832296\n",
      "Ground Truth Velocity Update: -0.9810000061988831, Predicted Velocity Update: -0.9832295775413513, Predicted Force: -9.832296\n",
      "Ground Truth Velocity Update: -0.9810000061988831, Predicted Velocity Update: -0.9832295775413513, Predicted Force: -9.832296\n",
      "Ground Truth Velocity Update: -0.9810000061988831, Predicted Velocity Update: -0.9832295775413513, Predicted Force: -9.832296\n",
      "Ground Truth Velocity Update: -0.9810000061988831, Predicted Velocity Update: -0.9832295775413513, Predicted Force: -9.832296\n",
      "Ground Truth Velocity Update: -0.9810000061988831, Predicted Velocity Update: -0.9832295775413513, Predicted Force: -9.832296\n",
      "Ground Truth Velocity Update: -0.9810000061988831, Predicted Velocity Update: -0.9832295775413513, Predicted Force: -9.832296\n",
      "Ground Truth Velocity Update: -0.9810000061988831, Predicted Velocity Update: -0.9832295775413513, Predicted Force: -9.832296\n",
      "Ground Truth Velocity Update: -0.9810000061988831, Predicted Velocity Update: -0.9832295775413513, Predicted Force: -9.832296\n",
      "Ground Truth Velocity Update: -0.9810000061988831, Predicted Velocity Update: -0.9832295775413513, Predicted Force: -9.832296\n",
      "Ground Truth Velocity Update: -0.9810000061988831, Predicted Velocity Update: -0.9832295775413513, Predicted Force: -9.832296\n",
      "Ground Truth Velocity Update: -0.9810000061988831, Predicted Velocity Update: -0.9832295775413513, Predicted Force: -9.832296\n",
      "Ground Truth Velocity Update: -0.9810000061988831, Predicted Velocity Update: -0.9832295775413513, Predicted Force: -9.832296\n",
      "Ground Truth Velocity Update: -0.9810000061988831, Predicted Velocity Update: -0.9832295775413513, Predicted Force: -9.832296\n",
      "Ground Truth Velocity Update: -0.9810000061988831, Predicted Velocity Update: -0.9832295775413513, Predicted Force: -9.832296\n",
      "Ground Truth Velocity Update: -0.9810000061988831, Predicted Velocity Update: -0.9832295775413513, Predicted Force: -9.832296\n",
      "Ground Truth Velocity Update: -0.9810000061988831, Predicted Velocity Update: -0.9832295775413513, Predicted Force: -9.832296\n",
      "Ground Truth Velocity Update: -0.9810000061988831, Predicted Velocity Update: -0.9832295775413513, Predicted Force: -9.832296\n",
      "Ground Truth Velocity Update: -0.9810000061988831, Predicted Velocity Update: -0.9832295775413513, Predicted Force: -9.832296\n",
      "Ground Truth Velocity Update: -0.9810000061988831, Predicted Velocity Update: -0.9832295775413513, Predicted Force: -9.832296\n",
      "Ground Truth Velocity Update: -0.9810000061988831, Predicted Velocity Update: -0.9832295775413513, Predicted Force: -9.832296\n",
      "Ground Truth Velocity Update: -0.9810000061988831, Predicted Velocity Update: -0.9832295775413513, Predicted Force: -9.832296\n",
      "Ground Truth Velocity Update: -0.9810000061988831, Predicted Velocity Update: -0.9832295775413513, Predicted Force: -9.832296\n",
      "Ground Truth Velocity Update: -0.9810000061988831, Predicted Velocity Update: -0.9832295775413513, Predicted Force: -9.832296\n",
      "Ground Truth Velocity Update: -0.9810000061988831, Predicted Velocity Update: -0.9832295775413513, Predicted Force: -9.832296\n",
      "Ground Truth Velocity Update: -0.9810000061988831, Predicted Velocity Update: -0.9832295775413513, Predicted Force: -9.832296\n",
      "Ground Truth Velocity Update: -0.9810000061988831, Predicted Velocity Update: -0.9832295775413513, Predicted Force: -9.832296\n",
      "Ground Truth Velocity Update: -0.9810000061988831, Predicted Velocity Update: -0.9832295775413513, Predicted Force: -9.832296\n",
      "Ground Truth Velocity Update: -0.9810000061988831, Predicted Velocity Update: -0.9832295775413513, Predicted Force: -9.832296\n",
      "Ground Truth Velocity Update: -0.9810000061988831, Predicted Velocity Update: -0.9832295775413513, Predicted Force: -9.832296\n",
      "Ground Truth Velocity Update: -0.9810000061988831, Predicted Velocity Update: -0.9832295775413513, Predicted Force: -9.832296\n",
      "Ground Truth Velocity Update: -0.9810000061988831, Predicted Velocity Update: -0.9832295775413513, Predicted Force: -9.832296\n",
      "Ground Truth Velocity Update: -0.9810000061988831, Predicted Velocity Update: -0.9832295775413513, Predicted Force: -9.832296\n",
      "Ground Truth Velocity Update: -0.9810000061988831, Predicted Velocity Update: -0.9832295775413513, Predicted Force: -9.832296\n",
      "Ground Truth Velocity Update: -0.9810000061988831, Predicted Velocity Update: -0.9832295775413513, Predicted Force: -9.832296\n",
      "Ground Truth Velocity Update: -0.9810000061988831, Predicted Velocity Update: -0.9832295775413513, Predicted Force: -9.832296\n",
      "Ground Truth Velocity Update: -0.9810000061988831, Predicted Velocity Update: -0.9832295775413513, Predicted Force: -9.832296\n",
      "Ground Truth Velocity Update: -0.9810000061988831, Predicted Velocity Update: -0.9832295775413513, Predicted Force: -9.832296\n",
      "Ground Truth Velocity Update: -0.9810000061988831, Predicted Velocity Update: -0.9832295775413513, Predicted Force: -9.832296\n",
      "Ground Truth Velocity Update: -0.9810000061988831, Predicted Velocity Update: -0.9832295775413513, Predicted Force: -9.832296\n",
      "Ground Truth Velocity Update: -0.9810000061988831, Predicted Velocity Update: -0.9832295775413513, Predicted Force: -9.832296\n",
      "Ground Truth Velocity Update: -0.9810000061988831, Predicted Velocity Update: -0.9832295775413513, Predicted Force: -9.832296\n",
      "Ground Truth Velocity Update: -0.9810000061988831, Predicted Velocity Update: -0.9832295775413513, Predicted Force: -9.832296\n",
      "Ground Truth Velocity Update: -0.9810000061988831, Predicted Velocity Update: -0.9832295775413513, Predicted Force: -9.832296\n",
      "Ground Truth Velocity Update: -0.9810000061988831, Predicted Velocity Update: -0.9832295775413513, Predicted Force: -9.832296\n",
      "Ground Truth Velocity Update: -0.9810000061988831, Predicted Velocity Update: -0.9832295775413513, Predicted Force: -9.832296\n",
      "Ground Truth Velocity Update: -0.9810000061988831, Predicted Velocity Update: -0.9832295775413513, Predicted Force: -9.832296\n",
      "Ground Truth Velocity Update: -0.9810000061988831, Predicted Velocity Update: -0.9832295775413513, Predicted Force: -9.832296\n",
      "Ground Truth Velocity Update: -0.9810000061988831, Predicted Velocity Update: -0.9832295775413513, Predicted Force: -9.832296\n",
      "Ground Truth Velocity Update: -0.9810000061988831, Predicted Velocity Update: -0.9832295775413513, Predicted Force: -9.832296\n",
      "Ground Truth Velocity Update: -0.9810000061988831, Predicted Velocity Update: -0.9832295775413513, Predicted Force: -9.832296\n",
      "Ground Truth Velocity Update: -0.9810000061988831, Predicted Velocity Update: -0.9832295775413513, Predicted Force: -9.832296\n",
      "Ground Truth Velocity Update: -0.9810000061988831, Predicted Velocity Update: -0.9832295775413513, Predicted Force: -9.832296\n",
      "Ground Truth Velocity Update: -0.9810000061988831, Predicted Velocity Update: -0.9832295775413513, Predicted Force: -9.832296\n",
      "Ground Truth Velocity Update: -0.9810000061988831, Predicted Velocity Update: -0.9832295775413513, Predicted Force: -9.832296\n",
      "Ground Truth Velocity Update: -0.9810000061988831, Predicted Velocity Update: -0.9832295775413513, Predicted Force: -9.832296\n",
      "Ground Truth Velocity Update: -0.9810000061988831, Predicted Velocity Update: -0.9832295775413513, Predicted Force: -9.832296\n"
     ]
    }
   ],
   "source": [
    "# Generate the simulation data from position data\n",
    "data_list = generate_fall_data_from_position(position_data, time_data)\n",
    "dataloader = DataLoader(data_list, batch_size=1, shuffle=False)  # Keep sequential order\n",
    "\n",
    "# Initialize model, loss function, and optimizer\n",
    "model = FreeFallGNN(in_channels=3, hidden_channels=8, out_channels=1)\n",
    "criterion = nn.MSELoss()\n",
    "optimizer = optim.Adam(model.parameters(), lr=0.1)\n",
    "\n",
    "# Training loop\n",
    "for epoch in range(10):\n",
    "    total_loss = 0\n",
    "    for data in dataloader:\n",
    "        optimizer.zero_grad()\n",
    "        pred_velocity_update = model(data.x, data.edge_index)  # Predict velocity update\n",
    "        loss = criterion(pred_velocity_update, data.y)  # Compare with ground truth velocity update\n",
    "        loss.backward()\n",
    "        optimizer.step()\n",
    "        total_loss += loss.item()\n",
    "    print(f\"Epoch {epoch+1}, Loss: {total_loss / len(dataloader):.6f}\")\n",
    "\n",
    "# Output results\n",
    "print(\"\\nSimulation Results:\")\n",
    "for idx, data in enumerate(dataloader):\n",
    "    with torch.no_grad():\n",
    "        pred_velocity_update = model(data.x, data.edge_index)\n",
    "\n",
    "        # Calculate the time step: Δt = time[i+1] - time[i]\n",
    "        delta_t = time_data[idx+1] - time_data[idx]  # Time difference between current and next step\n",
    "\n",
    "        # Calculate the predicted velocity: v[i+1] = v[i] + Δv\n",
    "        predicted_velocity = data.x[0][1].item() + pred_velocity_update.item()\n",
    "\n",
    "        # Calculate the predicted force: F = Δv / Δt\n",
    "        force = pred_velocity_update.item() / delta_t  # F = predicted Δv / Δt\n",
    "\n",
    "        print(f\"Ground Truth Velocity Update: {data.y.item()}, Predicted Velocity Update: {pred_velocity_update.item()}, Predicted Force: {force:.6f}\")"
   ]
  },
  {
   "cell_type": "code",
   "execution_count": null,
   "metadata": {},
   "outputs": [],
   "source": []
  },
  {
   "cell_type": "code",
   "execution_count": null,
   "metadata": {},
   "outputs": [],
   "source": []
  }
 ],
 "metadata": {
  "kernelspec": {
   "display_name": "base",
   "language": "python",
   "name": "python3"
  },
  "language_info": {
   "codemirror_mode": {
    "name": "ipython",
    "version": 3
   },
   "file_extension": ".py",
   "mimetype": "text/x-python",
   "name": "python",
   "nbconvert_exporter": "python",
   "pygments_lexer": "ipython3",
   "version": "3.9.7"
  }
 },
 "nbformat": 4,
 "nbformat_minor": 2
}
