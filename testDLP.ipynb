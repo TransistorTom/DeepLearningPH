{
 "cells": [
  {
   "cell_type": "code",
   "execution_count": 1,
   "metadata": {},
   "outputs": [],
   "source": [
    "import torch\n",
    "import torch.nn as nn\n",
    "import torch.optim as optim\n",
    "import numpy as np\n",
    "from torch_geometric.nn import MessagePassing\n",
    "from torch_geometric.data import Data\n",
    "from torch_geometric.loader import DataLoader\n"
   ]
  },
  {
   "cell_type": "code",
   "execution_count": 17,
   "metadata": {},
   "outputs": [],
   "source": [
    "import numpy as np\n",
    "import torch\n",
    "\n",
    "def projectile_trajectory_2d(m, dt, theta, v0, g = 9.81, x0 = 0, y0 = 0, N=1, dim=2):\n",
    "    \"\"\"\n",
    "    Calculates a 2D cartesian trajectory of a projectile of mass m launched at angle theta with initial velocity v0.  \n",
    "    \n",
    "        Parameters:\n",
    "    theta (int or float): angle between projectile trajectory and x-axis at t=0s in degrees \\\\\n",
    "    v0 (int or float): the intial velocity in m/s \\\\\n",
    "    m (int or float): mass of the projectile in kg \\\\\n",
    "    dt (int or float): time step for simulation in s \\\\\n",
    "    g (int or float): gravity constant (standard is 9.81) in m/s^2 \\\\\n",
    "    x0, y0 (int or float): initial position of ball in m \\\\\n",
    "\n",
    "        Returns: \n",
    "    The output is a numpy array containing the (x,y,t) coordinates of the projectile\n",
    "    \"\"\"\n",
    "\n",
    "    # Convert theta to radians\n",
    "    theta_rad = np.radians(theta)\n",
    "\n",
    "    # Initial velocity components\n",
    "    vx0 = v0 * np.cos(theta_rad)\n",
    "    vy0 = v0 * np.sin(theta_rad)\n",
    "\n",
    "    # Time array\n",
    "    t_max = (vy0 + np.sqrt(vy0**2+2*g*y0)) / g\n",
    "    t = np.arange(0, t_max, dt)\n",
    "    T = len(t)\n",
    "\n",
    "    # Compute trajectory\n",
    "    x = x0 + vx0 * t\n",
    "    y = y0 + vy0 * t - 0.5 * g * t**2\n",
    "\n",
    "    # Remove negative y values and make np array\n",
    "    valid = y >= 0\n",
    "    x, y, t = x[valid], y[valid], t[valid]\n",
    "    trajectory = np.column_stack((x,y))\n",
    "\n",
    "    vx = np.full_like(x, vx0)\n",
    "    vy = vy0 - g * t\n",
    "    trajectory_velocities = np.column_stack((vx,vy))\n",
    "    \n",
    "    trajectory_data = {\n",
    "        \"time\": torch.arange(T, dtype=torch.float32),\n",
    "        \"positions\": torch.zeros((T, N, dim), dtype=torch.float32),\n",
    "        \"velocities\": torch.zeros((T, N, dim), dtype=torch.float32),\n",
    "        \"masses\": torch.arange(N, dtype=torch.float32)\n",
    "    }\n",
    "    \n",
    "    trajectory_data[\"time\"] = torch.tensor(t)\n",
    "    trajectory_data[\"positions\"] = torch.tensor(trajectory[:, :].reshape(T, N, dim))\n",
    "    trajectory_data[\"velocities\"] = torch.tensor(trajectory_velocities[:, :].reshape(T, N, dim))\n",
    "    trajectory_data[\"masses\"] = torch.tensor(m)\n",
    "\n",
    "    return trajectory_data"
   ]
  },
  {
   "cell_type": "code",
   "execution_count": 18,
   "metadata": {},
   "outputs": [],
   "source": [
    "traj_freefall = projectile_trajectory_2d(3, 0.2, 30, 50)"
   ]
  },
  {
   "cell_type": "code",
   "execution_count": 31,
   "metadata": {},
   "outputs": [
    {
     "name": "stdout",
     "output_type": "stream",
     "text": [
      "1\n"
     ]
    }
   ],
   "source": [
    "print(traj_freefall[\"masses\"].numel())"
   ]
  },
  {
   "cell_type": "code",
   "execution_count": 9,
   "metadata": {},
   "outputs": [
    {
     "name": "stdout",
     "output_type": "stream",
     "text": [
      "Data(x=2, edge_index=[2], pos=[143, 1, 1], time=[143])\n"
     ]
    }
   ],
   "source": [
    "data = Data(x=trajectory_data_freefall[\"masses\"], edge_index=[0,0], pos=trajectory_data_freefall[\"positions\"], time=trajectory_data_freefall[\"time\"])\n",
    "print(data)"
   ]
  },
  {
   "cell_type": "code",
   "execution_count": 33,
   "metadata": {},
   "outputs": [
    {
     "data": {
      "text/plain": [
       "tensor([[0.2000],\n",
       "        [0.2000],\n",
       "        [0.2000]], dtype=torch.float64)"
      ]
     },
     "execution_count": 33,
     "metadata": {},
     "output_type": "execute_result"
    }
   ],
   "source": [
    "traj_freefall[\"time\"][1].repeat(3,1)"
   ]
  },
  {
   "cell_type": "code",
   "execution_count": null,
   "metadata": {},
   "outputs": [],
   "source": [
    "def node_data_list(trajectory_dict):\n",
    "    data_list = []\n",
    "\n",
    "    N = trajectory_dict[\"masses\"].numel()\n",
    "    \n",
    "    for i in range(len(trajectory_dict[\"time\"])):\n",
    "        time_feature = trajectory_dict[\"time\"][i].repeat(N,1)\n",
    "        position_features = trajectory_dict[\"positions\"][i]\n",
    "        x_features = torch.cat([\n",
    "            trajectory_dict[\"positions\"][i],    # (N,dim)\n",
    "            trajectory_dict[\"velocities\"][i],   # (N, dim)\n",
    "            trajectory_dict[\"masses\"][i].unsqueeze(1),       # (N, 1)\n",
    "            time_feature    # (N, 1)\n",
    "        ], dim=1)   # tensor of shape (N, 2 + 2 + 1 + 1) + (N, 6) if dim = 2\n",
    "        \n",
    "        y_target = torch.tensor()\n",
    "\n",
    "        data =Data(pos=position_features, time=time_feature)"
   ]
  }
 ],
 "metadata": {
  "kernelspec": {
   "display_name": "Python 3",
   "language": "python",
   "name": "python3"
  },
  "language_info": {
   "codemirror_mode": {
    "name": "ipython",
    "version": 3
   },
   "file_extension": ".py",
   "mimetype": "text/x-python",
   "name": "python",
   "nbconvert_exporter": "python",
   "pygments_lexer": "ipython3",
   "version": "3.9.4"
  }
 },
 "nbformat": 4,
 "nbformat_minor": 2
}
