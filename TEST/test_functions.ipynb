{
 "cells": [
  {
   "cell_type": "code",
   "execution_count": 34,
   "metadata": {},
   "outputs": [],
   "source": [
    "import torch\n",
    "import torch.nn as nn\n",
    "import torch.optim as optim\n",
    "import numpy as np\n",
    "from torch_geometric.nn import MessagePassing\n",
    "from torch_geometric.data import Data\n",
    "from torch_geometric.loader import DataLoader\n"
   ]
  },
  {
   "cell_type": "code",
   "execution_count": 3,
   "metadata": {},
   "outputs": [],
   "source": [
    "import numpy as np\n",
    "import torch\n",
    "\n",
    "def projectile_trajectory_2d(m, dt, theta, v0, g = 9.81, x0 = 0, y0 = 0, N=1, dim=2):\n",
    "    \"\"\"\n",
    "    Calculates a 2D cartesian trajectory of a projectile of mass m launched at angle theta with initial velocity v0.  \n",
    "    \n",
    "        Parameters:\n",
    "    theta (int or float): angle between projectile trajectory and x-axis at t=0s in degrees \\\\\n",
    "    v0 (int or float): the intial velocity in m/s \\\\\n",
    "    m (int or float): mass of the projectile in kg \\\\\n",
    "    dt (int or float): time step for simulation in s \\\\\n",
    "    g (int or float): gravity constant (standard is 9.81) in m/s^2 \\\\\n",
    "    x0, y0 (int or float): initial position of ball in m \\\\\n",
    "\n",
    "        Returns: \n",
    "    The output is a numpy array containing the (x,y,t) coordinates of the projectile\n",
    "    \"\"\"\n",
    "\n",
    "    # Convert theta to radians\n",
    "    theta_rad = np.radians(theta)\n",
    "\n",
    "    # Initial velocity components\n",
    "    vx0 = v0 * np.cos(theta_rad)\n",
    "    vy0 = v0 * np.sin(theta_rad)\n",
    "\n",
    "    # Time array\n",
    "    t_max = (vy0 + np.sqrt(vy0**2+2*g*y0)) / g\n",
    "    t = np.arange(0, t_max, dt)\n",
    "    T = len(t)\n",
    "\n",
    "    # Compute trajectory\n",
    "    x = x0 + vx0 * t\n",
    "    y = y0 + vy0 * t - 0.5 * g * t**2\n",
    "\n",
    "    # Remove negative y values and make np array\n",
    "    valid = y >= 0\n",
    "    x, y, t = x[valid], y[valid], t[valid]\n",
    "    trajectory = np.column_stack((x,y))\n",
    "\n",
    "    vx = np.full_like(x, vx0)\n",
    "    vy = vy0 - g * t\n",
    "    trajectory_velocities = np.column_stack((vx,vy))\n",
    "    \n",
    "    trajectory_data = {\n",
    "        \"time\": torch.arange(T, dtype=torch.float32),\n",
    "        \"positions\": torch.zeros((T, N, dim), dtype=torch.float32),\n",
    "        \"velocities\": torch.zeros((T, N, dim), dtype=torch.float32),\n",
    "        \"masses\": torch.arange(N, dtype=torch.float32)\n",
    "    }\n",
    "    \n",
    "    trajectory_data[\"time\"] = torch.tensor(t)\n",
    "    trajectory_data[\"positions\"] = torch.tensor(trajectory[:, :].reshape(T, N, dim))\n",
    "    trajectory_data[\"velocities\"] = torch.tensor(trajectory_velocities[:, :].reshape(T, N, dim))\n",
    "    trajectory_data[\"masses\"] = torch.tensor(m)\n",
    "\n",
    "    return trajectory_data"
   ]
  },
  {
   "cell_type": "code",
   "execution_count": 4,
   "metadata": {},
   "outputs": [],
   "source": [
    "traj_freefall = projectile_trajectory_2d(3, 0.2, 30, 50)"
   ]
  },
  {
   "cell_type": "code",
   "execution_count": 5,
   "metadata": {},
   "outputs": [
    {
     "name": "stdout",
     "output_type": "stream",
     "text": [
      "1\n"
     ]
    }
   ],
   "source": [
    "print(traj_freefall[\"masses\"].numel())"
   ]
  },
  {
   "cell_type": "code",
   "execution_count": 30,
   "metadata": {},
   "outputs": [],
   "source": [
    "def node_data_list(trajectory_dict, self_loop=True, complete_graph=True):\n",
    "    data_list = []\n",
    "\n",
    "    N = trajectory_dict[\"masses\"].numel()\n",
    "    # Ensure masses has the correct shape (N, 1)\n",
    "    mass_data = trajectory_dict[\"masses\"]\n",
    "\n",
    "    # If masses is scalar (0-dimensional), repeat it for N particles\n",
    "    if mass_data.dim() == 0:  # scalar case\n",
    "        mass_data = mass_data.repeat(N, 1)  # shape (N, 1)\n",
    "\n",
    "    # If masses is already a 1D tensor of shape (N,)\n",
    "    elif mass_data.dim() == 1:  # 1D tensor case\n",
    "        mass_data = mass_data.unsqueeze(1)  # shape (N, 1)\n",
    "    \n",
    "    for i in range(len(trajectory_dict[\"time\"]) - 1):\n",
    "        time_feature = trajectory_dict[\"time\"][i].repeat(N,1)\n",
    "        position_features = trajectory_dict[\"positions\"][i]\n",
    "\n",
    "        x_features = torch.cat([\n",
    "            trajectory_dict[\"positions\"][i],    # (N,dim)\n",
    "            trajectory_dict[\"velocities\"][i],   # (N, dim)\n",
    "            mass_data,       # (N, 1)\n",
    "            time_feature    # (N, 1)\n",
    "        ], dim=1)   # tensor of shape (N, 2 + 2 + 1 + 1) + (N, 6) if dim = 2\n",
    "\n",
    "        velocity_update = trajectory_dict[\"velocities\"][i+1] - trajectory_dict[\"velocities\"][i]\n",
    "        \n",
    "        y_target = torch.tensor(velocity_update, dtype=torch.float)\n",
    "\n",
    "        # edge_index = torch.empty((0, 2), dtype=torch.int64)\n",
    "        \n",
    "        edge_list = []\n",
    "        \n",
    "        if self_loop:\n",
    "            edge_list.extend([[j,j] for j in range(N)])\n",
    "            # edge_index = torch.arange(N).unsqueeze(1).repeat(1, 2)\n",
    "        \n",
    "        if complete_graph:\n",
    "            edge_list.extend([k,j] for k in range(N) for j in range(N) if k != j)\n",
    "            # for j in range(N):\n",
    "            #     for k in range(N):\n",
    "            #         if j != k:\n",
    "            #             edge_list.append([j,k])\n",
    "            \n",
    "            \n",
    "        edge_index = torch.tensor(edge_list, dtype=torch.long).t().contiguous()    \n",
    "\n",
    "        data_list.append(Data(x=x_features, y=y_target, edge_index=edge_index))\n",
    "\n",
    "    return data_list"
   ]
  },
  {
   "cell_type": "code",
   "execution_count": 31,
   "metadata": {},
   "outputs": [
    {
     "name": "stderr",
     "output_type": "stream",
     "text": [
      "/var/folders/_p/ztk2c0b93nbb9q83wg0_pq780000gn/T/ipykernel_48858/2296259503.py:29: UserWarning: To copy construct from a tensor, it is recommended to use sourceTensor.clone().detach() or sourceTensor.clone().detach().requires_grad_(True), rather than torch.tensor(sourceTensor).\n",
      "  y_target = torch.tensor(velocity_update, dtype=torch.float)\n"
     ]
    },
    {
     "data": {
      "text/plain": [
       "[Data(x=[1, 6], edge_index=[2, 1], y=[1, 2]),\n",
       " Data(x=[1, 6], edge_index=[2, 1], y=[1, 2]),\n",
       " Data(x=[1, 6], edge_index=[2, 1], y=[1, 2]),\n",
       " Data(x=[1, 6], edge_index=[2, 1], y=[1, 2]),\n",
       " Data(x=[1, 6], edge_index=[2, 1], y=[1, 2]),\n",
       " Data(x=[1, 6], edge_index=[2, 1], y=[1, 2]),\n",
       " Data(x=[1, 6], edge_index=[2, 1], y=[1, 2]),\n",
       " Data(x=[1, 6], edge_index=[2, 1], y=[1, 2]),\n",
       " Data(x=[1, 6], edge_index=[2, 1], y=[1, 2]),\n",
       " Data(x=[1, 6], edge_index=[2, 1], y=[1, 2]),\n",
       " Data(x=[1, 6], edge_index=[2, 1], y=[1, 2]),\n",
       " Data(x=[1, 6], edge_index=[2, 1], y=[1, 2]),\n",
       " Data(x=[1, 6], edge_index=[2, 1], y=[1, 2]),\n",
       " Data(x=[1, 6], edge_index=[2, 1], y=[1, 2]),\n",
       " Data(x=[1, 6], edge_index=[2, 1], y=[1, 2]),\n",
       " Data(x=[1, 6], edge_index=[2, 1], y=[1, 2]),\n",
       " Data(x=[1, 6], edge_index=[2, 1], y=[1, 2]),\n",
       " Data(x=[1, 6], edge_index=[2, 1], y=[1, 2]),\n",
       " Data(x=[1, 6], edge_index=[2, 1], y=[1, 2]),\n",
       " Data(x=[1, 6], edge_index=[2, 1], y=[1, 2]),\n",
       " Data(x=[1, 6], edge_index=[2, 1], y=[1, 2]),\n",
       " Data(x=[1, 6], edge_index=[2, 1], y=[1, 2]),\n",
       " Data(x=[1, 6], edge_index=[2, 1], y=[1, 2]),\n",
       " Data(x=[1, 6], edge_index=[2, 1], y=[1, 2]),\n",
       " Data(x=[1, 6], edge_index=[2, 1], y=[1, 2])]"
      ]
     },
     "execution_count": 31,
     "metadata": {},
     "output_type": "execute_result"
    }
   ],
   "source": [
    "node_data_list(traj_freefall, self_loop=True, complete_graph=False)"
   ]
  },
  {
   "cell_type": "code",
   "execution_count": 17,
   "metadata": {},
   "outputs": [],
   "source": [
    "edge_list = []   \n",
    "edge_list.extend([i,j] for i in range(3) for j in range(3) if i != j)\n",
    "# for j in range(3):\n",
    "#     for k in range(3):\n",
    "#         if j != k:\n",
    "#             edge_list.append([j,k])\n",
    "\n",
    "edge_index = torch.tensor(edge_list, dtype=torch.int64).contiguous()\n",
    "                "
   ]
  },
  {
   "cell_type": "code",
   "execution_count": 18,
   "metadata": {},
   "outputs": [
    {
     "data": {
      "text/plain": [
       "tensor([[0, 1],\n",
       "        [0, 2],\n",
       "        [1, 0],\n",
       "        [1, 2],\n",
       "        [2, 0],\n",
       "        [2, 1]])"
      ]
     },
     "execution_count": 18,
     "metadata": {},
     "output_type": "execute_result"
    }
   ],
   "source": [
    "edge_index"
   ]
  },
  {
   "cell_type": "code",
   "execution_count": null,
   "metadata": {},
   "outputs": [],
   "source": [
    "m = np.array([1,2,3])\n",
    "dict_ex = {\n",
    "        \"masses\": torch.arange(3, dtype=torch.float32)\n",
    "    }\n",
    "    \n",
    "dict_ex[\"masses\"] = torch.tensor(m)\n",
    "mass_data = dict_ex[\"masses\"]\n",
    "\n",
    "mass_data = mass_data.unsqueeze(1)  # shape (N, 1)\n",
    "mass_data"
   ]
  },
  {
   "cell_type": "code",
   "execution_count": null,
   "metadata": {},
   "outputs": [],
   "source": []
  },
  {
   "cell_type": "code",
   "execution_count": 40,
   "metadata": {},
   "outputs": [
    {
     "data": {
      "text/plain": [
       "tensor([[1],\n",
       "        [2],\n",
       "        [3]])"
      ]
     },
     "execution_count": 40,
     "metadata": {},
     "output_type": "execute_result"
    }
   ],
   "source": [
    "mass_data"
   ]
  },
  {
   "cell_type": "code",
   "execution_count": 36,
   "metadata": {},
   "outputs": [
    {
     "ename": "NameError",
     "evalue": "name 'numpy' is not defined",
     "output_type": "error",
     "traceback": [
      "\u001b[0;31m---------------------------------------------------------------------------\u001b[0m",
      "\u001b[0;31mNameError\u001b[0m                                 Traceback (most recent call last)",
      "Cell \u001b[0;32mIn[36], line 1\u001b[0m\n\u001b[0;32m----> 1\u001b[0m \u001b[38;5;28mprint\u001b[39m(\u001b[43mnumpy\u001b[49m\u001b[38;5;241m.\u001b[39m\u001b[38;5;18m__file__\u001b[39m)\n",
      "\u001b[0;31mNameError\u001b[0m: name 'numpy' is not defined"
     ]
    }
   ],
   "source": [
    "print(numpy.__file__)"
   ]
  },
  {
   "cell_type": "code",
   "execution_count": null,
   "metadata": {},
   "outputs": [],
   "source": []
  }
 ],
 "metadata": {
  "kernelspec": {
   "display_name": "Python 3",
   "language": "python",
   "name": "python3"
  },
  "language_info": {
   "codemirror_mode": {
    "name": "ipython",
    "version": 3
   },
   "file_extension": ".py",
   "mimetype": "text/x-python",
   "name": "python",
   "nbconvert_exporter": "python",
   "pygments_lexer": "ipython3",
   "version": "3.9.4"
  }
 },
 "nbformat": 4,
 "nbformat_minor": 2
}
