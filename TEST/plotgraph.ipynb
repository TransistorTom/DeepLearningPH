{
 "cells": [
  {
   "cell_type": "code",
   "execution_count": null,
   "metadata": {},
   "outputs": [],
   "source": [
    "import sys\n",
    "import os\n",
    "import torch\n",
    "notebook_dir = os.getcwd()\n",
    "project_root = os.path.abspath(os.path.join(notebook_dir, \"..\"))\n",
    "sys.path.append(project_root)\n",
    "\n",
    "import torch\n",
    "import networkx as nx\n",
    "import matplotlib.pyplot as plt\n",
    "from torch_geometric.utils import to_networkx\n",
    "from DeepLearningPH.simulations.n_body_simulation import n_body_simulation\n",
    "from gnn_model.node_data_list import node_data_list\n",
    "\n",
    "def plot_graph(data, feature_dim_to_show=-2, with_labels=True, node_size=600, cmap='viridis'):\n",
    "    \"\"\"\n",
    "    Plots a PyTorch Geometric Data object as a graph using networkx.\n",
    "\n",
    "    Args:\n",
    "        data (torch_geometric.data.Data): The graph data.\n",
    "        feature_dim_to_show (int): Which feature dimension to use as color/label.\n",
    "        with_labels (bool): Whether to annotate nodes with feature values.\n",
    "        node_size (int): Node size in the plot.\n",
    "        cmap (str): Matplotlib colormap for node colors.\n",
    "    \"\"\"\n",
    "    # Convert to NetworkX graph\n",
    "    G = to_networkx(data, to_undirected=False)\n",
    "    # Layout for nicer appearance\n",
    "    pos = nx.spring_layout(G, seed=42)\n",
    "\n",
    "    nx.draw_networkx_edges(\n",
    "    G, pos,\n",
    "    arrowsize=20,\n",
    "    connectionstyle='arc3,rad=0.05',  # curve the edges\n",
    "    arrow_pos=\"middle\"\n",
    "    )\n",
    "\n",
    "    nx.draw_networkx_edges(\n",
    "    G, pos,\n",
    "    arrowsize=20,\n",
    "    connectionstyle='arc3,rad=-0.05',\n",
    "    arrow_pos=\"middle\"\n",
    "    )\n",
    "\n",
    "    # Get node features (for coloring or labeling)\n",
    "    if hasattr(data, 'x') and data.x is not None:\n",
    "        node_attrs = data.x[:, feature_dim_to_show].detach().cpu().numpy()\n",
    "    else:\n",
    "        node_attrs = None\n",
    "\n",
    "    # Draw nodes\n",
    "    nodes = nx.draw_networkx_nodes(G, pos, node_size=node_size,\n",
    "                                   node_color=node_attrs, cmap=cmap)\n",
    "\n",
    "    # Optionally add labels\n",
    "    if with_labels and node_attrs is not None:\n",
    "        labels = {i: f\"{val:.2f}\" for i, val in enumerate(node_attrs)}\n",
    "        nx.draw_networkx_labels(G, pos, labels, font_size=10, font_color=\"black\")\n",
    "\n",
    "    plt.title(f\"{len(data.x[:, feature_dim_to_show])}-body gravity simulation\")\n",
    "    plt.axis('off')\n",
    "    plt.show()"
   ]
  },
  {
   "cell_type": "code",
   "execution_count": 46,
   "metadata": {},
   "outputs": [
    {
     "ename": "TypeError",
     "evalue": "draw_networkx_edges() got an unexpected keyword argument 'arrow_pos'",
     "output_type": "error",
     "traceback": [
      "\u001b[0;31m---------------------------------------------------------------------------\u001b[0m",
      "\u001b[0;31mTypeError\u001b[0m                                 Traceback (most recent call last)",
      "Cell \u001b[0;32mIn[46], line 10\u001b[0m\n\u001b[1;32m      7\u001b[0m data \u001b[38;5;241m=\u001b[39m abc[\u001b[38;5;241m0\u001b[39m]\n\u001b[1;32m      9\u001b[0m \u001b[38;5;66;03m# Plot, using the first feature dimension as color/label\u001b[39;00m\n\u001b[0;32m---> 10\u001b[0m \u001b[43mplot_graph\u001b[49m\u001b[43m(\u001b[49m\u001b[43mdata\u001b[49m\u001b[43m,\u001b[49m\u001b[43m \u001b[49m\u001b[43mfeature_dim_to_show\u001b[49m\u001b[38;5;241;43m=\u001b[39;49m\u001b[38;5;241;43m0\u001b[39;49m\u001b[43m)\u001b[49m\n",
      "Cell \u001b[0;32mIn[45], line 31\u001b[0m, in \u001b[0;36mplot_graph\u001b[0;34m(data, feature_dim_to_show, with_labels, node_size, cmap)\u001b[0m\n\u001b[1;32m     28\u001b[0m \u001b[38;5;66;03m# Layout for nicer appearance\u001b[39;00m\n\u001b[1;32m     29\u001b[0m pos \u001b[38;5;241m=\u001b[39m nx\u001b[38;5;241m.\u001b[39mspring_layout(G, seed\u001b[38;5;241m=\u001b[39m\u001b[38;5;241m42\u001b[39m)\n\u001b[0;32m---> 31\u001b[0m \u001b[43mnx\u001b[49m\u001b[38;5;241;43m.\u001b[39;49m\u001b[43mdraw_networkx_edges\u001b[49m\u001b[43m(\u001b[49m\n\u001b[1;32m     32\u001b[0m \u001b[43m\u001b[49m\u001b[43mG\u001b[49m\u001b[43m,\u001b[49m\u001b[43m \u001b[49m\u001b[43mpos\u001b[49m\u001b[43m,\u001b[49m\n\u001b[1;32m     33\u001b[0m \u001b[43m\u001b[49m\u001b[43marrowsize\u001b[49m\u001b[38;5;241;43m=\u001b[39;49m\u001b[38;5;241;43m20\u001b[39;49m\u001b[43m,\u001b[49m\n\u001b[1;32m     34\u001b[0m \u001b[43m\u001b[49m\u001b[43mconnectionstyle\u001b[49m\u001b[38;5;241;43m=\u001b[39;49m\u001b[38;5;124;43m'\u001b[39;49m\u001b[38;5;124;43marc3,rad=0.05\u001b[39;49m\u001b[38;5;124;43m'\u001b[39;49m\u001b[43m,\u001b[49m\u001b[43m  \u001b[49m\u001b[38;5;66;43;03m# curve the edges\u001b[39;49;00m\n\u001b[1;32m     35\u001b[0m \u001b[43m\u001b[49m\u001b[43marrow_pos\u001b[49m\u001b[38;5;241;43m=\u001b[39;49m\u001b[38;5;124;43m\"\u001b[39;49m\u001b[38;5;124;43mmiddle\u001b[39;49m\u001b[38;5;124;43m\"\u001b[39;49m\n\u001b[1;32m     36\u001b[0m \u001b[43m\u001b[49m\u001b[43m)\u001b[49m\n\u001b[1;32m     38\u001b[0m nx\u001b[38;5;241m.\u001b[39mdraw_networkx_edges(\n\u001b[1;32m     39\u001b[0m G, pos,\n\u001b[1;32m     40\u001b[0m arrowsize\u001b[38;5;241m=\u001b[39m\u001b[38;5;241m20\u001b[39m,\n\u001b[1;32m     41\u001b[0m connectionstyle\u001b[38;5;241m=\u001b[39m\u001b[38;5;124m'\u001b[39m\u001b[38;5;124marc3,rad=-0.05\u001b[39m\u001b[38;5;124m'\u001b[39m,\n\u001b[1;32m     42\u001b[0m arrow_pos\u001b[38;5;241m=\u001b[39m\u001b[38;5;124m\"\u001b[39m\u001b[38;5;124mmiddle\u001b[39m\u001b[38;5;124m\"\u001b[39m\n\u001b[1;32m     43\u001b[0m )\n\u001b[1;32m     45\u001b[0m \u001b[38;5;66;03m# Get node features (for coloring or labeling)\u001b[39;00m\n",
      "\u001b[0;31mTypeError\u001b[0m: draw_networkx_edges() got an unexpected keyword argument 'arrow_pos'"
     ]
    }
   ],
   "source": [
    "from torch_geometric.data import Data\n",
    "\n",
    "# Create example graph with 5 nodes and random features\n",
    "abcd = n_body_simulation()\n",
    "abc = node_data_list(abcd, self_loop=False, complete_graph=True)\n",
    "\n",
    "data = abc[0]\n",
    "\n",
    "# Plot, using the first feature dimension as color/label\n",
    "plot_graph(data, feature_dim_to_show=0)\n"
   ]
  },
  {
   "cell_type": "code",
   "execution_count": null,
   "metadata": {},
   "outputs": [],
   "source": []
  }
 ],
 "metadata": {
  "kernelspec": {
   "display_name": "Python 3",
   "language": "python",
   "name": "python3"
  },
  "language_info": {
   "codemirror_mode": {
    "name": "ipython",
    "version": 3
   },
   "file_extension": ".py",
   "mimetype": "text/x-python",
   "name": "python",
   "nbconvert_exporter": "python",
   "pygments_lexer": "ipython3",
   "version": "3.9.4"
  }
 },
 "nbformat": 4,
 "nbformat_minor": 2
}
